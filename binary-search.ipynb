{
 "cells": [
  {
   "cell_type": "code",
   "execution_count": 16,
   "id": "2ce8f00b",
   "metadata": {},
   "outputs": [
    {
     "name": "stdout",
     "output_type": "stream",
     "text": [
      "7\n",
      "89\n",
      "45\n",
      "3213\n",
      "231\n",
      "656\n",
      "212\n",
      "231\n",
      "Your inputs in ascending order [45, 89, 212, 231, 231, 656, 3213]\n",
      "Type the number you want to search\n",
      "656\n",
      "found at index5\n"
     ]
    }
   ],
   "source": [
    "#input the number of elements\n",
    "total = int(input())\n",
    "\n",
    "#get the values for array\n",
    "sorted_arr = []\n",
    "for i in range(0,total):\n",
    "    sorted_arr.append(int(input()))\n",
    "\n",
    "#sort the array\n",
    "sorted_arr.sort()\n",
    "print('Your inputs in ascending order',sorted_arr)\n",
    "\n",
    "#get the value to be searched\n",
    "print('Type the number you want to search')\n",
    "to_search = int(input())\n",
    "\n",
    "#initialization\n",
    "start = 0\n",
    "end = total-1\n",
    "mid = start+int((end-start+1)/2)\n",
    "\n",
    "#controller for while script\n",
    "run = True\n",
    "\n",
    "#compare the middle value with required value to be searched\n",
    "def check(mid):\n",
    "    global start,end,run\n",
    "    if sorted_arr[mid]==to_search:\n",
    "        print('found at index '+str(mid))\n",
    "        run = False\n",
    "    elif sorted_arr[mid]>to_search:\n",
    "        end = mid-1\n",
    "    else:\n",
    "        start = mid+1\n",
    "while(run):\n",
    "    go = check(mid)\n",
    "    mid = start+int((end-start+1)/2)"
   ]
  },
  {
   "cell_type": "code",
   "execution_count": null,
   "id": "a81a1a80",
   "metadata": {},
   "outputs": [],
   "source": []
  }
 ],
 "metadata": {
  "kernelspec": {
   "display_name": "Python 3 (ipykernel)",
   "language": "python",
   "name": "python3"
  },
  "language_info": {
   "codemirror_mode": {
    "name": "ipython",
    "version": 3
   },
   "file_extension": ".py",
   "mimetype": "text/x-python",
   "name": "python",
   "nbconvert_exporter": "python",
   "pygments_lexer": "ipython3",
   "version": "3.8.10"
  }
 },
 "nbformat": 4,
 "nbformat_minor": 5
}

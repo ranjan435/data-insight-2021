{
 "cells": [
  {
   "cell_type": "code",
   "execution_count": 1,
   "id": "16010d42",
   "metadata": {},
   "outputs": [
    {
     "name": "stdout",
     "output_type": "stream",
     "text": [
      "The statement is Data Insight Online\n"
     ]
    }
   ],
   "source": [
    "def func(a,b,c):\n",
    "    print(\"The statement is \"+a+ \" \" + b + \" \" + c)\n",
    "func(\"Data\",\"Insight\",\"Online\")"
   ]
  },
  {
   "cell_type": "code",
   "execution_count": 9,
   "id": "f4758511",
   "metadata": {},
   "outputs": [
    {
     "name": "stdout",
     "output_type": "stream",
     "text": [
      "(3, 4, 5)\n"
     ]
    }
   ],
   "source": [
    "#*args\n",
    "def withArgs(*args):\n",
    "    print(args)\n",
    "withArgs(3,4,5)"
   ]
  },
  {
   "cell_type": "code",
   "execution_count": 14,
   "id": "aebae942",
   "metadata": {},
   "outputs": [
    {
     "name": "stdout",
     "output_type": "stream",
     "text": [
      "{'name': 'abc', 'surname': 'def', 'gender': 'M'}\n",
      "Key=name,Value=abc\n",
      "Key=surname,Value=def\n",
      "Key=gender,Value=M\n"
     ]
    }
   ],
   "source": [
    "#**kwargs\n",
    "def withKwargs(**foo):   \n",
    "    print(foo)\n",
    "    for key, value in foo.items():\n",
    "        print(\"Key={},Value={}\".format(key,value))\n",
    "withKwargs(name=\"abc\",surname=\"def\",gender=\"M\")"
   ]
  },
  {
   "cell_type": "code",
   "execution_count": null,
   "id": "7dd4e5cc",
   "metadata": {},
   "outputs": [],
   "source": []
  }
 ],
 "metadata": {
  "kernelspec": {
   "display_name": "Python 3 (ipykernel)",
   "language": "python",
   "name": "python3"
  },
  "language_info": {
   "codemirror_mode": {
    "name": "ipython",
    "version": 3
   },
   "file_extension": ".py",
   "mimetype": "text/x-python",
   "name": "python",
   "nbconvert_exporter": "python",
   "pygments_lexer": "ipython3",
   "version": "3.8.10"
  }
 },
 "nbformat": 4,
 "nbformat_minor": 5
}

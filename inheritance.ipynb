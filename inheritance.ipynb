{
 "cells": [
  {
   "cell_type": "code",
   "execution_count": 5,
   "id": "c1ce8cad",
   "metadata": {},
   "outputs": [
    {
     "name": "stdout",
     "output_type": "stream",
     "text": [
      "Ram Shyam\n"
     ]
    }
   ],
   "source": [
    "class Human:\n",
    "    def __init__(self, firstname, lastname):\n",
    "        self.firstname = firstname\n",
    "        self.lastname = lastname\n",
    "\n",
    "    def printname(self):\n",
    "        print(self.firstname, self.lastname)\n",
    "    \n",
    "class Man(Human):\n",
    "    pass\n",
    "\n",
    "x= Man(\"Ram\",\"Shyam\")\n",
    "x.printname()"
   ]
  },
  {
   "cell_type": "code",
   "execution_count": 11,
   "id": "42c2172c",
   "metadata": {},
   "outputs": [
    {
     "name": "stdout",
     "output_type": "stream",
     "text": [
      "Ram Shyam\n",
      "Male\n"
     ]
    }
   ],
   "source": [
    "class Human:\n",
    "    def __init__(self, firstname, lastname):\n",
    "        self.firstname = firstname\n",
    "        self.lastname = lastname\n",
    "\n",
    "    def printname(self):\n",
    "        print(self.firstname, self.lastname)\n",
    "    \n",
    "class Man(Human):\n",
    "    def __init__(self, firstname, lastname):\n",
    "        super().__init__(firstname,lastname)\n",
    "        self.gender = \"Male\" \n",
    "    def printgender(self):\n",
    "        print(self.gender)\n",
    "\n",
    "x= Man(\"Ram\",\"Shyam\")\n",
    "x.printname()\n",
    "x.printgender()"
   ]
  },
  {
   "cell_type": "code",
   "execution_count": 2,
   "id": "6eb56adf",
   "metadata": {},
   "outputs": [
    {
     "name": "stdout",
     "output_type": "stream",
     "text": [
      "ABC XYZ\n",
      "Female\n"
     ]
    }
   ],
   "source": [
    "class Human:\n",
    "    def __init__(self, firstname, lastname):\n",
    "        self.firstname = firstname\n",
    "        self.lastname = lastname\n",
    "\n",
    "    def printname(self):\n",
    "        print(self.firstname, self.lastname)\n",
    "    \n",
    "class Man(Human):\n",
    "    def __init__(self, firstname, lastname):\n",
    "        super().__init__(firstname,lastname)\n",
    "        self.gender = \"Male\"\n",
    "    def printgender(self):\n",
    "        print(self.gender)\n",
    "\n",
    "class Daughter(Man):\n",
    "    def __init__(self, firstname, lastname):\n",
    "        super().__init__(firstname,lastname)\n",
    "        self.gender = \"Female\"\n",
    "\n",
    "y= Daughter(\"ABC\",\"XYZ\")\n",
    "y.printname()\n",
    "y.printgender()"
   ]
  },
  {
   "cell_type": "code",
   "execution_count": null,
   "id": "1598e467",
   "metadata": {},
   "outputs": [],
   "source": []
  },
  {
   "cell_type": "code",
   "execution_count": null,
   "id": "f13c7bf1",
   "metadata": {},
   "outputs": [],
   "source": []
  }
 ],
 "metadata": {
  "kernelspec": {
   "display_name": "Python 3 (ipykernel)",
   "language": "python",
   "name": "python3"
  },
  "language_info": {
   "codemirror_mode": {
    "name": "ipython",
    "version": 3
   },
   "file_extension": ".py",
   "mimetype": "text/x-python",
   "name": "python",
   "nbconvert_exporter": "python",
   "pygments_lexer": "ipython3",
   "version": "3.8.10"
  }
 },
 "nbformat": 4,
 "nbformat_minor": 5
}

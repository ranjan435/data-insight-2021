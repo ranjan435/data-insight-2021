{
 "cells": [
  {
   "cell_type": "code",
   "execution_count": 17,
   "id": "78737e05",
   "metadata": {},
   "outputs": [
    {
     "name": "stdout",
     "output_type": "stream",
     "text": [
      "Enter your height in feet and inches\n",
      "Feet=\n",
      "5\n",
      "Inches=\n",
      "6\n"
     ]
    }
   ],
   "source": [
    "#take height in feet and inches format as input from user\n",
    "print('Enter your height in feet and inches')\n",
    "print('Feet=')\n",
    "feet = float(input())\n",
    "print('Inches=')\n",
    "inches = float(input())\n",
    "height = feet*12+inches"
   ]
  },
  {
   "cell_type": "code",
   "execution_count": 18,
   "id": "3f4cbb2c",
   "metadata": {},
   "outputs": [
    {
     "name": "stdout",
     "output_type": "stream",
     "text": [
      "Enter your weight in pounds\n",
      "Weight = \n",
      "187.4\n"
     ]
    }
   ],
   "source": [
    "# Take weight as input in pound\n",
    "print('Enter your weight in pounds')\n",
    "print('Weight = ')\n",
    "weight = float(input())"
   ]
  },
  {
   "cell_type": "code",
   "execution_count": 22,
   "id": "aaf2fbcc",
   "metadata": {},
   "outputs": [
    {
     "name": "stdout",
     "output_type": "stream",
     "text": [
      "Your BMI is  30.24\n"
     ]
    }
   ],
   "source": [
    "#Calculate BMI using formula\n",
    "bmi = (weight/(height*height))*703\n",
    "print('Your BMI is ',round(bmi,2))"
   ]
  },
  {
   "cell_type": "code",
   "execution_count": null,
   "id": "e6d74d3e",
   "metadata": {},
   "outputs": [],
   "source": [
    "#Check for under, normal, over weight or obesity\n",
    "if bmi<=18.5:\n",
    "    print('Underweight')\n",
    "elif bmi>18.5 and bmi<=24.9:\n",
    "    print('Normal weight')\n",
    "elif bmi>=25 and bmi>=29.9:\n",
    "    print('Over weight')\n",
    "else:\n",
    "    print('Obesity')"
   ]
  }
 ],
 "metadata": {
  "kernelspec": {
   "display_name": "Python 3 (ipykernel)",
   "language": "python",
   "name": "python3"
  },
  "language_info": {
   "codemirror_mode": {
    "name": "ipython",
    "version": 3
   },
   "file_extension": ".py",
   "mimetype": "text/x-python",
   "name": "python",
   "nbconvert_exporter": "python",
   "pygments_lexer": "ipython3",
   "version": "3.8.10"
  }
 },
 "nbformat": 4,
 "nbformat_minor": 5
}
